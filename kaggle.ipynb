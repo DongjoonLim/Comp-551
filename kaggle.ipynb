{
 "cells": [
  {
   "cell_type": "code",
   "execution_count": 1,
   "metadata": {},
   "outputs": [
    {
     "name": "stderr",
     "output_type": "stream",
     "text": [
      "/home/dongjoon/.local/lib/python3.6/site-packages/sklearn/ensemble/weight_boosting.py:29: DeprecationWarning: numpy.core.umath_tests is an internal NumPy module and should not be imported. It will be removed in a future NumPy release.\n",
      "  from numpy.core.umath_tests import inner1d\n"
     ]
    }
   ],
   "source": [
    "from sklearn import preprocessing\n",
    "from sklearn.feature_extraction.text import CountVectorizer\n",
    "import numpy as np   \n",
    "import pandas as pd\n",
    "from scipy import ndimage\n",
    "import scipy.misc # to visualize only\n",
    "from scipy.misc import imresize\n",
    "#from skimage.restoration import denoise_bilateral\n",
    "from sklearn.svm import SVC\n",
    "from sklearn.linear_model import LogisticRegression, Perceptron\n",
    "from sklearn.ensemble import RandomForestClassifier\n",
    "from sklearn.model_selection import train_test_split \n",
    "from matplotlib import pyplot as plt\n",
    "from sklearn.model_selection import cross_val_score\n",
    "from sklearn.metrics import f1_score\n",
    "from sklearn.metrics import accuracy_score\n",
    "from sklearn.ensemble import VotingClassifier\n",
    "from sklearn.feature_selection import SelectFromModel\n",
    "from sklearn.preprocessing import StandardScaler\n",
    "from sklearn.pipeline import Pipeline\n",
    "from sklearn.model_selection import cross_val_score"
   ]
  },
  {
   "cell_type": "code",
   "execution_count": 2,
   "metadata": {},
   "outputs": [
    {
     "name": "stdout",
     "output_type": "stream",
     "text": [
      "(10000,)\n",
      "[[0 array([0., 0., 0., ..., 0., 0., 0.])]\n",
      " [1 array([0., 0., 0., ..., 0., 0., 0.])]\n",
      " [2 array([0., 0., 0., ..., 0., 0., 0.])]\n",
      " ...\n",
      " [9997 array([0., 0., 0., ..., 0., 0., 0.])]\n",
      " [9998 array([255., 255., 255., ...,   0.,   0.,   0.])]\n",
      " [9999 array([0., 0., 0., ..., 0., 0., 0.])]]\n",
      "[25 20 23 ... 21  3 13]\n"
     ]
    },
    {
     "data": {
      "text/plain": [
       "'x_train = x_train.reshape(100, 100) # reshape \\nx_test = x_test.reshape(100, 100) \\nprint(x_train.shape)'"
      ]
     },
     "execution_count": 2,
     "metadata": {},
     "output_type": "execute_result"
    }
   ],
   "source": [
    "# Load training data and its label\n",
    "train_set = np.load('all/train_images.npy', encoding = 'latin1')\n",
    "test_set = np.load('all/test_images.npy', encoding = 'latin1')\n",
    "train_label = pd.read_csv('all/train_labels.csv')\n",
    "train_label = train_label['Category']\n",
    "\n",
    "# Encode train_label(Category) to integers.\n",
    "le = preprocessing.LabelEncoder()\n",
    "le.fit(train_label)\n",
    "train_label = le.transform(train_label)\n",
    "\n",
    "# Sanity check.\n",
    "print(train_set[:,1].shape)\n",
    "print(train_set)\n",
    "print(train_label)\n",
    "\n",
    "# Tried to visualize, kept failing....\n",
    "x_train = train_set[:,1]\n",
    "x_test = test_set[:,1]\n",
    "\n",
    "\n",
    "'''x_train = x_train.reshape(100, 100) # reshape \n",
    "x_test = x_test.reshape(100, 100) \n",
    "print(x_train.shape)'''\n",
    "\n",
    "\n",
    "#plt.imshow(train_set[0]) # to visualize only \n",
    "#train_label.head(20)"
   ]
  },
  {
   "cell_type": "code",
   "execution_count": 3,
   "metadata": {},
   "outputs": [
    {
     "name": "stdout",
     "output_type": "stream",
     "text": [
      "(2000, 10000)\n",
      "(2000,)\n"
     ]
    },
    {
     "name": "stderr",
     "output_type": "stream",
     "text": [
      "/home/dongjoon/.local/lib/python3.6/site-packages/sklearn/preprocessing/label.py:151: DeprecationWarning: The truth value of an empty array is ambiguous. Returning False, but in future this will result in an error. Use `array.size > 0` to check that an array is not empty.\n",
      "  if diff:\n",
      "/home/dongjoon/.local/lib/python3.6/site-packages/sklearn/preprocessing/label.py:151: DeprecationWarning: The truth value of an empty array is ambiguous. Returning False, but in future this will result in an error. Use `array.size > 0` to check that an array is not empty.\n",
      "  if diff:\n"
     ]
    },
    {
     "name": "stdout",
     "output_type": "stream",
     "text": [
      "Train accuracy: 1.0\n",
      "Validation accuracy: 0.054375\n"
     ]
    },
    {
     "name": "stderr",
     "output_type": "stream",
     "text": [
      "/home/dongjoon/.local/lib/python3.6/site-packages/sklearn/preprocessing/label.py:151: DeprecationWarning: The truth value of an empty array is ambiguous. Returning False, but in future this will result in an error. Use `array.size > 0` to check that an array is not empty.\n",
      "  if diff:\n",
      "/home/dongjoon/.local/lib/python3.6/site-packages/sklearn/preprocessing/label.py:151: DeprecationWarning: The truth value of an empty array is ambiguous. Returning False, but in future this will result in an error. Use `array.size > 0` to check that an array is not empty.\n",
      "  if diff:\n",
      "/home/dongjoon/.local/lib/python3.6/site-packages/sklearn/preprocessing/label.py:151: DeprecationWarning: The truth value of an empty array is ambiguous. Returning False, but in future this will result in an error. Use `array.size > 0` to check that an array is not empty.\n",
      "  if diff:\n",
      "/home/dongjoon/.local/lib/python3.6/site-packages/sklearn/preprocessing/label.py:151: DeprecationWarning: The truth value of an empty array is ambiguous. Returning False, but in future this will result in an error. Use `array.size > 0` to check that an array is not empty.\n",
      "  if diff:\n"
     ]
    },
    {
     "name": "stdout",
     "output_type": "stream",
     "text": [
      "[0.07038835 0.0591133  0.05263158 0.05316456 0.06185567]\n"
     ]
    },
    {
     "name": "stderr",
     "output_type": "stream",
     "text": [
      "/home/dongjoon/.local/lib/python3.6/site-packages/sklearn/preprocessing/label.py:151: DeprecationWarning: The truth value of an empty array is ambiguous. Returning False, but in future this will result in an error. Use `array.size > 0` to check that an array is not empty.\n",
      "  if diff:\n"
     ]
    },
    {
     "data": {
      "text/plain": [
       "'ran_clf.fit(x_train, y_train)\\npredicted = ran_clf.predict(x_val)\\nprint(accuracy_score(y_val, predicted))\\n\\nsvc_clf.fit(x_train, y_train)\\npredicted = svc_clf.predict(x_val)\\nprint(accuracy_score(y_val, predicted))'"
      ]
     },
     "execution_count": 3,
     "metadata": {},
     "output_type": "execute_result"
    }
   ],
   "source": [
    "X = pd.DataFrame.from_records(x_train) # Convert it into dataframe for model input\n",
    "y = train_label\n",
    "x_test = pd.DataFrame.from_records(x_test)\n",
    "\n",
    "'''X = X[X>200]\n",
    "x_test = x_test[x_test>200]'''\n",
    "\n",
    "\n",
    "'''from sklearn.decomposition import PCA\n",
    "\n",
    "pca = PCA(n_components = 500)\n",
    "\n",
    "\n",
    "X = pca.fit_transform(X) # To reduce dimensionality using PCA as current number of features is way too large.\n",
    "X = X'''\n",
    "\n",
    "# Split to train and valid set\n",
    "x_train, x_val, y_train, y_val = train_test_split(X, y, test_size=0.8, random_state=42)\n",
    "print(x_train.shape)\n",
    "print(y_train.shape)\n",
    "\n",
    "\n",
    "#x_test.head()\n",
    "\n",
    "#Instantiate simple machine learning models\n",
    "log_clf = LogisticRegression(solver='liblinear', random_state=42)\n",
    "ran_clf = RandomForestClassifier(n_estimators=100, max_depth=2, random_state=0)\n",
    "svc_clf = Pipeline([\n",
    "        (\"scaler\", StandardScaler()),\n",
    "        (\"svm_clf\", SVC(kernel=\"poly\", degree=3, coef0=1, C=5))\n",
    "    ])\n",
    "per_clf = Perceptron(random_state=42)\n",
    "\n",
    "\n",
    "'''per_clf.fit(x_train, y_train)\n",
    "val_predicted = per_clf.predict(x_val)\n",
    "print('Validation accuracy: {}'.format(accuracy_score(y_val, val_predicted)))'''\n",
    "\n",
    "\n",
    "# Train using simple ensemble voting classifier. Doesn't work well.\n",
    "voting_clf = VotingClassifier(\n",
    "    estimators=[('lr', log_clf), ('rf', ran_clf), ('svc', svc_clf)],\n",
    "    voting='hard')\n",
    "\n",
    "voting_clf.fit(x_train, y_train)\n",
    "\n",
    "train_predicted = voting_clf.predict(x_train)\n",
    "val_predicted = voting_clf.predict(x_val)\n",
    "\n",
    "print('Train accuracy: {}'.format(accuracy_score(y_train, train_predicted)))\n",
    "#print(f1_score(y_val, val_predicted, average='micro'))\n",
    "print('Validation accuracy: {}'.format(accuracy_score(y_val, val_predicted)))\n",
    "print(cross_val_score(voting_clf, x_train, y_train, cv=5, scoring='accuracy'))\n",
    "# Simple machine learning models for sure doesn't work well\n",
    "'''ran_clf.fit(x_train, y_train)\n",
    "predicted = ran_clf.predict(x_val)\n",
    "print(accuracy_score(y_val, predicted))\n",
    "\n",
    "svc_clf.fit(x_train, y_train)\n",
    "predicted = svc_clf.predict(x_val)\n",
    "print(accuracy_score(y_val, predicted))'''"
   ]
  }
 ],
 "metadata": {
  "kernelspec": {
   "display_name": "Python 3",
   "language": "python",
   "name": "python3"
  },
  "language_info": {
   "codemirror_mode": {
    "name": "ipython",
    "version": 3
   },
   "file_extension": ".py",
   "mimetype": "text/x-python",
   "name": "python",
   "nbconvert_exporter": "python",
   "pygments_lexer": "ipython3",
   "version": "3.6.6"
  }
 },
 "nbformat": 4,
 "nbformat_minor": 2
}
