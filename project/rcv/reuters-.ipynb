{
 "cells": [
  {
   "cell_type": "code",
   "execution_count": 13,
   "metadata": {
    "colab": {},
    "colab_type": "code",
    "id": "yK2VMgMHtRWW"
   },
   "outputs": [],
   "source": [
    "from sklearn.datasets import fetch_rcv1\n",
    "import math \n",
    "import numpy as np\n",
    "import pandas as pd\n",
    "import matplotlib as mpl\n",
    "import matplotlib.pyplot as plt\n",
    "from sklearn.multiclass import OneVsRestClassifier\n",
    "from sklearn.svm import LinearSVC\n",
    "from sklearn.metrics import accuracy_score\n",
    "from sklearn.naive_bayes import MultinomialNB\n",
    "import warnings\n"
   ]
  },
  {
   "cell_type": "code",
   "execution_count": 14,
   "metadata": {
    "colab": {},
    "colab_type": "code",
    "id": "YW3EY7oStRWg"
   },
   "outputs": [],
   "source": [
    "rcv1 = fetch_rcv1()"
   ]
  },
  {
   "cell_type": "code",
   "execution_count": 15,
   "metadata": {
    "colab": {},
    "colab_type": "code",
    "id": "FjGmLLj2tRWm",
    "outputId": "2ff61143-318b-423e-b174-0162116331aa"
   },
   "outputs": [
    {
     "data": {
      "text/plain": [
       "(804414, 47236)"
      ]
     },
     "execution_count": 15,
     "metadata": {},
     "output_type": "execute_result"
    }
   ],
   "source": [
    "rcv1.data.shape"
   ]
  },
  {
   "cell_type": "code",
   "execution_count": 16,
   "metadata": {},
   "outputs": [
    {
     "data": {
      "text/plain": [
       "sklearn.utils.Bunch"
      ]
     },
     "execution_count": 16,
     "metadata": {},
     "output_type": "execute_result"
    }
   ],
   "source": [
    "type(rcv1)"
   ]
  },
  {
   "cell_type": "code",
   "execution_count": 17,
   "metadata": {
    "colab": {},
    "colab_type": "code",
    "id": "xD5WrxejtRWw",
    "outputId": "9daf3536-68ed-45dd-ef49-5397efb45727"
   },
   "outputs": [
    {
     "data": {
      "text/plain": [
       "(804414, 103)"
      ]
     },
     "execution_count": 17,
     "metadata": {},
     "output_type": "execute_result"
    }
   ],
   "source": [
    "rcv1.target.shape"
   ]
  },
  {
   "cell_type": "code",
   "execution_count": 18,
   "metadata": {
    "colab": {},
    "colab_type": "code",
    "id": "sNulItRptRW2",
    "outputId": "1ae14e29-2b04-4a4a-d6c5-bbde5960ad6f"
   },
   "outputs": [
    {
     "name": "stdout",
     "output_type": "stream",
     "text": [
      "['C11', 'C12', 'C13', 'C14', 'C15', 'C151', 'C1511', 'C152', 'C16', 'C17', 'C171', 'C172', 'C173', 'C174', 'C18', 'C181', 'C182', 'C183', 'C21', 'C22', 'C23', 'C24', 'C31', 'C311', 'C312', 'C313', 'C32', 'C33', 'C331', 'C34', 'C41', 'C411', 'C42', 'CCAT', 'E11', 'E12', 'E121', 'E13', 'E131', 'E132', 'E14', 'E141', 'E142', 'E143', 'E21', 'E211', 'E212', 'E31', 'E311', 'E312', 'E313', 'E41', 'E411', 'E51', 'E511', 'E512', 'E513', 'E61', 'E71', 'ECAT', 'G15', 'G151', 'G152', 'G153', 'G154', 'G155', 'G156', 'G157', 'G158', 'G159', 'GCAT', 'GCRIM', 'GDEF', 'GDIP', 'GDIS', 'GENT', 'GENV', 'GFAS', 'GHEA', 'GJOB', 'GMIL', 'GOBIT', 'GODD', 'GPOL', 'GPRO', 'GREL', 'GSCI', 'GSPO', 'GTOUR', 'GVIO', 'GVOTE', 'GWEA', 'GWELF', 'M11', 'M12', 'M13', 'M131', 'M132', 'M14', 'M141', 'M142', 'M143', 'MCAT']\n"
     ]
    }
   ],
   "source": [
    "\n",
    "print(rcv1.target_names.tolist()) #33+1 CCAT  24+1 ECAT 33 G 10M"
   ]
  },
  {
   "cell_type": "code",
   "execution_count": 19,
   "metadata": {
    "colab": {},
    "colab_type": "code",
    "id": "zk9VOsZDtRW-"
   },
   "outputs": [],
   "source": [
    "data=rcv1.target.toarray()"
   ]
  },
  {
   "cell_type": "code",
   "execution_count": 20,
   "metadata": {
    "colab": {},
    "colab_type": "code",
    "id": "HGl2reVitRXC",
    "outputId": "5638a27f-8851-48fb-d368-78884a424c1b"
   },
   "outputs": [
    {
     "data": {
      "text/plain": [
       "1"
      ]
     },
     "execution_count": 20,
     "metadata": {},
     "output_type": "execute_result"
    }
   ],
   "source": [
    "data[0][-1]"
   ]
  },
  {
   "cell_type": "code",
   "execution_count": 21,
   "metadata": {
    "colab": {},
    "colab_type": "code",
    "id": "CdSVxs6atRXI",
    "outputId": "6425dc5d-0cdd-43e8-b1cd-49280677c216"
   },
   "outputs": [
    {
     "data": {
      "text/plain": [
       "array([0, 0, 0, 0, 1, 1, 0, 0, 0, 0, 0, 0, 0, 0, 0, 0, 0, 0, 0, 0, 0, 0,\n",
       "       0, 0, 0, 0, 0, 0, 0, 0, 0, 0, 0, 1, 0, 0, 0, 0, 0, 0, 0, 0, 0, 0,\n",
       "       0, 0, 0, 0, 0, 0, 0, 1, 0, 0, 0, 0, 0, 0, 0, 1, 0, 0, 0, 0, 0, 0,\n",
       "       0, 0, 0, 0, 1, 0, 0, 0, 0, 0, 0, 0, 0, 1, 0, 0, 0, 0, 0, 0, 0, 0,\n",
       "       0, 0, 0, 0, 0, 0, 0, 0, 0, 0, 0, 0, 0, 0, 0], dtype=uint8)"
      ]
     },
     "execution_count": 21,
     "metadata": {},
     "output_type": "execute_result"
    }
   ],
   "source": [
    "data[2]"
   ]
  },
  {
   "cell_type": "code",
   "execution_count": 22,
   "metadata": {
    "colab": {},
    "colab_type": "code",
    "id": "ytQWA_hgtRXQ"
   },
   "outputs": [],
   "source": [
    "name=['C11', 'C12', 'C13', 'C14', 'C15', 'C151', 'C1511', 'C152', 'C16', 'C17', 'C171', 'C172', 'C173', 'C174', 'C18', 'C181', 'C182', 'C183', 'C21', 'C22', 'C23', 'C24', 'C31', 'C311', 'C312', 'C313', 'C32', 'C33', 'C331', 'C34', 'C41', 'C411', 'C42', 'CCAT', 'E11', 'E12', 'E121', 'E13', 'E131', 'E132', 'E14', 'E141', 'E142', 'E143', 'E21', 'E211', 'E212', 'E31', 'E311', 'E312', 'E313', 'E41', 'E411', 'E51', 'E511', 'E512', 'E513', 'E61', 'E71', 'ECAT', 'G15', 'G151', 'G152', 'G153', 'G154', 'G155', 'G156', 'G157', 'G158', 'G159', 'GCAT', 'GCRIM', 'GDEF', 'GDIP', 'GDIS', 'GENT', 'GENV', 'GFAS', 'GHEA', 'GJOB', 'GMIL', 'GOBIT', 'GODD', 'GPOL', 'GPRO', 'GREL', 'GSCI', 'GSPO', 'GTOUR', 'GVIO', 'GVOTE', 'GWEA', 'GWELF', 'M11', 'M12', 'M13', 'M131', 'M132', 'M14', 'M141', 'M142', 'M143', 'MCAT']\n",
    "df=pd.DataFrame(data,columns=name)"
   ]
  },
  {
   "cell_type": "code",
   "execution_count": 23,
   "metadata": {
    "colab": {},
    "colab_type": "code",
    "id": "Tz9xFf6EtRXV",
    "outputId": "697ee7aa-62f0-4bf1-b122-22df00fb2965"
   },
   "outputs": [
    {
     "data": {
      "text/plain": [
       "(804414, 103)"
      ]
     },
     "execution_count": 23,
     "metadata": {},
     "output_type": "execute_result"
    }
   ],
   "source": [
    "df.head()\n",
    "df.shape\n"
   ]
  },
  {
   "cell_type": "code",
   "execution_count": 24,
   "metadata": {
    "colab": {},
    "colab_type": "code",
    "id": "IsJSB1ZjtRXZ"
   },
   "outputs": [],
   "source": [
    "new13=df.loc[:,['C11', 'C12', 'C13', 'C14', 'C15', 'C16', 'C17', 'C18',  'C21', 'C22', 'C23', 'C24', 'C31',  'C32', 'C33', 'C34', 'C41', 'C42','E11', 'E12', 'E13','E14', 'E21', 'E31','E41', 'E51','E61','E71', 'GCRIM', 'GDEF', 'GDIP', 'GDIS', 'GENT', 'GENV', 'GFAS', 'GHEA', 'GJOB', 'GMIL', 'GOBIT', 'GODD', 'GPOL', 'GPRO', 'GREL', 'GSCI', 'GSPO', 'GTOUR', 'GVIO', 'GVOTE', 'GWEA', 'GWELF']]"
   ]
  },
  {
   "cell_type": "code",
   "execution_count": 25,
   "metadata": {
    "colab": {},
    "colab_type": "code",
    "id": "F61two8HtRXc",
    "outputId": "cb599f14-2285-4347-e222-21079dd3128d"
   },
   "outputs": [
    {
     "name": "stdout",
     "output_type": "stream",
     "text": [
      "402946\n"
     ]
    }
   ],
   "source": [
    "s=0\n",
    "Index=list(range(402946))\n",
    "for i in list(range(804414)):\n",
    "    a=new13.loc[i].sum(axis=0)\n",
    "    if a==1:\n",
    "        Index[s]=i\n",
    "        s+=1\n",
    "        \n",
    "print(s)\n"
   ]
  },
  {
   "cell_type": "code",
   "execution_count": 26,
   "metadata": {
    "colab": {},
    "colab_type": "code",
    "id": "XdoWwf7UtRXe",
    "outputId": "3cf46ca1-d82c-4747-8694-7e4ad83f3d5a"
   },
   "outputs": [
    {
     "data": {
      "text/plain": [
       "(402946, 50)"
      ]
     },
     "execution_count": 26,
     "metadata": {},
     "output_type": "execute_result"
    }
   ],
   "source": [
    "label=['C11', 'C12', 'C13', 'C14', 'C15', 'C16', 'C17', 'C18',  'C21', 'C22', 'C23', 'C24', 'C31',  'C32', 'C33', 'C34', 'C41', 'C42','E11', 'E12', 'E13','E14', 'E21', 'E31','E41', 'E51','E61','E71', 'GCRIM', 'GDEF', 'GDIP', 'GDIS', 'GENT', 'GENV', 'GFAS', 'GHEA', 'GJOB', 'GMIL', 'GOBIT', 'GODD', 'GPOL', 'GPRO', 'GREL', 'GSCI', 'GSPO', 'GTOUR', 'GVIO', 'GVOTE', 'GWEA', 'GWELF']\n",
    "final_label=df.loc[Index,label]\n",
    "final_label.shape\n"
   ]
  },
  {
   "cell_type": "code",
   "execution_count": 27,
   "metadata": {
    "colab": {},
    "colab_type": "code",
    "id": "GDsDbPoOtRXi",
    "outputId": "ca8fef1f-4b06-42c0-f97d-2f47bd906305"
   },
   "outputs": [
    {
     "name": "stdout",
     "output_type": "stream",
     "text": [
      "[0 0 0 0 0 0 0 0 0 0 0 0 0 0 0 0 0 0 0 0 0 0 0 0 0 0 0 0 0 0 0 0 0 0 0 0 0\n",
      " 0 0 0 0 0 0 0 1 0 0 0 0 0]\n"
     ]
    }
   ],
   "source": [
    "label=final_label.values\n",
    "label.shape\n",
    "print(label[150])"
   ]
  },
  {
   "cell_type": "code",
   "execution_count": 28,
   "metadata": {
    "colab": {},
    "colab_type": "code",
    "id": "PQpFN8sPtRXl"
   },
   "outputs": [],
   "source": [
    "Sum=rcv1.data.sum(axis=0)"
   ]
  },
  {
   "cell_type": "code",
   "execution_count": 29,
   "metadata": {
    "colab": {},
    "colab_type": "code",
    "id": "50phKU_ltRXo"
   },
   "outputs": [],
   "source": [
    "Sum.shape\n",
    "sequence=np.sort(Sum)\n",
    "Sum_tran=Sum.T\n",
    "cols=['Frequency']\n",
    "dd=pd.DataFrame(Sum_tran,columns=cols)\n",
    "dd.sort_values('Frequency',ascending=False,inplace=True)\n",
    "a=list(range(2000))\n",
    "for i in list(range(2000)):\n",
    "   a[i]=dd.index[i]\n",
    "b=rcv1.data[0,a].toarray()\n"
   ]
  },
  {
   "cell_type": "code",
   "execution_count": 30,
   "metadata": {
    "colab": {},
    "colab_type": "code",
    "id": "PnaLm8tNtRXv"
   },
   "outputs": [],
   "source": [
    "c=np.zeros((402946,2000))\n",
    "for i,j in zip(Index,list(range(2000))):\n",
    "    c[j]=rcv1.data[i,a].toarray()\n",
    "#    c=np.vstack([c,a])\n"
   ]
  },
  {
   "cell_type": "code",
   "execution_count": 31,
   "metadata": {
    "colab": {},
    "colab_type": "code",
    "id": "0rxkyhsVtRXy"
   },
   "outputs": [
    {
     "name": "stdout",
     "output_type": "stream",
     "text": [
      "(402946, 50)\n"
     ]
    }
   ],
   "source": [
    "\n",
    "print(label.shape)\n",
    "#label = np.argmax(label, axis=1)\n"
   ]
  },
  {
   "cell_type": "code",
   "execution_count": null,
   "metadata": {
    "colab": {},
    "colab_type": "code",
    "id": "jpzlYcJ1tRX1"
   },
   "outputs": [],
   "source": [
    "from sklearn.model_selection import train_test_split\n",
    "x_train,x_test,y_train,y_test=train_test_split(c,label,train_size=0.5,test_size=0.5)\n",
    "np.save('x_train',x_train)\n",
    "np.save('x_test',x_test)\n",
    "np.save('y_train',y_train)\n",
    "np.save('y_test',y_test)\n",
    "#x_test, y_test, x_val, y_val =train_test_split(x_test,y_test,train_size=0.8,test_size=0.2)"
   ]
  },
  {
   "cell_type": "code",
   "execution_count": null,
   "metadata": {
    "colab": {},
    "colab_type": "code",
    "id": "xiSfaG1AtRX5",
    "outputId": "6cf314da-c17b-4c76-c96c-2713febfa5ca"
   },
   "outputs": [],
   "source": [
    "print(x_train.shape)\n",
    "#print(y_train.shape)\n",
    "x_train = pd.DataFrame(x_train)\n",
    "y_train = pd.DataFrame(y_train)\n",
    "x_test = pd.DataFrame(x_test)\n",
    "y_test = pd.DataFrame(y_test)\n",
    "'''x_train.to_csv('x_train')\n",
    "y_train.to_csv('y_train')\n",
    "x_test.to_csv('x_test')\n",
    "y_test.to_csv('y_test')'''"
   ]
  },
  {
   "cell_type": "code",
   "execution_count": null,
   "metadata": {
    "colab": {},
    "colab_type": "code",
    "id": "OdHpH47ItRX-",
    "outputId": "0260760d-825c-41cb-f039-ded4297e8638"
   },
   "outputs": [],
   "source": [
    "\n",
    "'''\n",
    "LSVC= LinearSVC(C=0.01)\n",
    "LSVC.fit(x_train,y_train)\n",
    "predicted = LSVC.predict(x_test)\n",
    "print('linear SVCtest accuracy : {}'.format(accuracy_score(y_test, predicted)))\n",
    "print('=============================================================================')\n",
    "\n",
    "'''"
   ]
  },
  {
   "cell_type": "code",
   "execution_count": null,
   "metadata": {
    "colab": {},
    "colab_type": "code",
    "id": "eGQihLWrtRYS"
   },
   "outputs": [],
   "source": [
    "from keras.models import Sequential\n",
    "from keras.layers import Embedding\n",
    "from keras.layers import LSTM\n",
    "from keras.layers import Dense, Dropout, Flatten, Activation, BatchNormalization, regularizers\n",
    "\n",
    "max_features = 2000\n",
    "'''\n",
    "model = Sequential()\n",
    "model.add(Embedding(max_features, output_dim=50))\n",
    "model.add(LSTM(128))\n",
    "model.add(Dropout(0.5))\n",
    "model.add(Dense(1, activation='sigmoid'))\n",
    "'''\n",
    "\n",
    "model = Sequential()\n",
    "model.add(Dense(2048, input_dim=2000, activation = 'relu'))\n",
    "model.add(Dropout(0.5))\n",
    "model.add(BatchNormalization())\n",
    "model.add(Dense(1024, activation = 'relu'))\n",
    "model.add(Dropout(0.5))\n",
    "model.add(BatchNormalization())\n",
    "model.add(Dense(256, activation = 'relu'))\n",
    "model.add(Dropout(0.5))\n",
    "model.add(BatchNormalization())\n",
    "model.add(Dense(50, activation = 'softmax'))\n",
    "\n",
    "\n",
    "model.compile(loss='categorical_crossentropy',\n",
    "              optimizer='adam',\n",
    "              metrics=['accuracy'])\n",
    "\n",
    "model.fit(x_train, y_train, batch_size=1024, epochs=20, verbose=1, validation_split=0.2,shuffle=True)\n",
    "score = model.evaluate(x_test, y_test, batch_size=1024)"
   ]
  },
  {
   "cell_type": "raw",
   "metadata": {},
   "source": []
  },
  {
   "cell_type": "code",
   "execution_count": null,
   "metadata": {
    "colab": {},
    "colab_type": "code",
    "id": "RHljLsMltRYW"
   },
   "outputs": [],
   "source": [
    "print(score)"
   ]
  },
  {
   "cell_type": "code",
   "execution_count": null,
   "metadata": {
    "colab": {},
    "colab_type": "code",
    "id": "bZvwiEf7tRYc"
   },
   "outputs": [],
   "source": [
    "x_train"
   ]
  }
 ],
 "metadata": {
  "colab": {
   "name": "reuters-.ipynb",
   "provenance": [],
   "version": "0.3.2"
  },
  "kernelspec": {
   "display_name": "Python 3",
   "language": "python",
   "name": "python3"
  },
  "language_info": {
   "codemirror_mode": {
    "name": "ipython",
    "version": 3
   },
   "file_extension": ".py",
   "mimetype": "text/x-python",
   "name": "python",
   "nbconvert_exporter": "python",
   "pygments_lexer": "ipython3",
   "version": "3.6.6"
  }
 },
 "nbformat": 4,
 "nbformat_minor": 1
}
