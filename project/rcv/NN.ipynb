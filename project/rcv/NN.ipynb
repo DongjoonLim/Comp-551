{
 "cells": [
  {
   "cell_type": "code",
   "execution_count": 1,
   "metadata": {},
   "outputs": [
    {
     "name": "stderr",
     "output_type": "stream",
     "text": [
      "Using TensorFlow backend.\n"
     ]
    }
   ],
   "source": [
    "from keras.models import Sequential\n",
    "from keras.layers import Dense, Dropout\n",
    "from keras.layers import Embedding\n",
    "from keras.layers import LSTM\n",
    "from sklearn.datasets import fetch_rcv1\n",
    "import math \n",
    "import numpy as np\n",
    "import pandas as pd\n",
    "import matplotlib as mpl\n",
    "import matplotlib.pyplot as plt\n",
    "from sklearn.multiclass import OneVsRestClassifier\n",
    "from sklearn.svm import LinearSVC\n",
    "from sklearn.metrics import accuracy_score\n",
    "from sklearn.naive_bayes import MultinomialNB\n",
    "import warnings\n",
    "from keras.models import Sequential\n",
    "from keras.layers import Embedding\n",
    "from keras.layers import LSTM\n",
    "from keras.layers import Dense, Dropout, Flatten, Activation, BatchNormalization, regularizers\n",
    "from keras.optimizers import RMSprop"
   ]
  },
  {
   "cell_type": "code",
   "execution_count": 2,
   "metadata": {},
   "outputs": [],
   "source": [
    "x_train = np.load('x_train.npy')\n",
    "x_test = np.load('x_test.npy')\n",
    "y_train = np.load('y_train.npy')\n",
    "y_test = np.load('y_test.npy')"
   ]
  },
  {
   "cell_type": "code",
   "execution_count": 7,
   "metadata": {},
   "outputs": [
    {
     "data": {
      "text/plain": [
       "0.0"
      ]
     },
     "execution_count": 7,
     "metadata": {},
     "output_type": "execute_result"
    }
   ],
   "source": [
    "np.max(x_train[0,:])"
   ]
  },
  {
   "cell_type": "code",
   "execution_count": 12,
   "metadata": {},
   "outputs": [
    {
     "name": "stdout",
     "output_type": "stream",
     "text": [
      "[0. 0. 0. ... 0. 0. 0.]\n",
      "[0 0 0 0 1 0 0 0 0 0 0 0 0 0 0 0 0 0 0 0 0 0 0 0 0 0 0 0 0 0 0 0 0 0 0 0 0\n",
      " 0 0 0 0 0 0 0 0 0 0 0 0 0]\n",
      "2000\n"
     ]
    }
   ],
   "source": [
    "print(x_train[1])\n",
    "print(y_train[1])\n",
    "count =0\n",
    "for i in range(2000):\n",
    "    if x_train[156][i]==0.0:\n",
    "        count = count+1\n",
    "print (count)"
   ]
  },
  {
   "cell_type": "code",
   "execution_count": 4,
   "metadata": {},
   "outputs": [
    {
     "name": "stdout",
     "output_type": "stream",
     "text": [
      "Train on 161178 samples, validate on 40295 samples\n",
      "Epoch 1/20\n",
      "161178/161178 [==============================] - 3s 22us/step - loss: 3.8543 - acc: 0.3226 - val_loss: 3.7720 - val_acc: 0.3293\n",
      "Epoch 2/20\n",
      "161178/161178 [==============================] - 2s 12us/step - loss: 3.7008 - acc: 0.3278 - val_loss: 3.4979 - val_acc: 0.3298\n",
      "Epoch 3/20\n",
      "161178/161178 [==============================] - 2s 12us/step - loss: 3.4950 - acc: 0.3282 - val_loss: 3.2242 - val_acc: 0.3302\n",
      "Epoch 4/20\n",
      "161178/161178 [==============================] - 2s 11us/step - loss: 3.2630 - acc: 0.3287 - val_loss: 3.0718 - val_acc: 0.3303\n",
      "Epoch 5/20\n",
      "161178/161178 [==============================] - 2s 11us/step - loss: 3.0392 - acc: 0.3292 - val_loss: 2.9558 - val_acc: 0.3306\n",
      "Epoch 6/20\n",
      "161178/161178 [==============================] - 2s 11us/step - loss: 2.8599 - acc: 0.3297 - val_loss: 2.8246 - val_acc: 0.3310\n",
      "Epoch 7/20\n",
      "161178/161178 [==============================] - 2s 12us/step - loss: 2.7534 - acc: 0.3300 - val_loss: 2.7435 - val_acc: 0.3312\n",
      "Epoch 8/20\n",
      "161178/161178 [==============================] - 2s 12us/step - loss: 2.7156 - acc: 0.3301 - val_loss: 2.7032 - val_acc: 0.3312\n",
      "Epoch 9/20\n",
      "161178/161178 [==============================] - 2s 11us/step - loss: 2.7020 - acc: 0.3302 - val_loss: 2.6956 - val_acc: 0.3313\n",
      "Epoch 10/20\n",
      "161178/161178 [==============================] - 2s 11us/step - loss: 2.6949 - acc: 0.3303 - val_loss: 2.6879 - val_acc: 0.3314\n",
      "Epoch 11/20\n",
      "161178/161178 [==============================] - 2s 11us/step - loss: 2.6910 - acc: 0.3304 - val_loss: 2.6845 - val_acc: 0.3314\n",
      "Epoch 12/20\n",
      "161178/161178 [==============================] - 2s 12us/step - loss: 2.6887 - acc: 0.3305 - val_loss: 2.6823 - val_acc: 0.3314\n",
      "Epoch 13/20\n",
      "161178/161178 [==============================] - 2s 11us/step - loss: 2.6872 - acc: 0.3306 - val_loss: 2.6814 - val_acc: 0.3313\n",
      "Epoch 14/20\n",
      "161178/161178 [==============================] - 2s 11us/step - loss: 2.6862 - acc: 0.3307 - val_loss: 2.6807 - val_acc: 0.3314\n",
      "Epoch 15/20\n",
      "161178/161178 [==============================] - 2s 11us/step - loss: 2.6855 - acc: 0.3307 - val_loss: 2.6801 - val_acc: 0.3315\n",
      "Epoch 16/20\n",
      "161178/161178 [==============================] - 2s 12us/step - loss: 2.6850 - acc: 0.3307 - val_loss: 2.6798 - val_acc: 0.3314\n",
      "Epoch 17/20\n",
      "161178/161178 [==============================] - 2s 11us/step - loss: 2.6847 - acc: 0.3307 - val_loss: 2.6794 - val_acc: 0.3314\n",
      "Epoch 18/20\n",
      "161178/161178 [==============================] - 2s 12us/step - loss: 2.6844 - acc: 0.3308 - val_loss: 2.6813 - val_acc: 0.3314\n",
      "Epoch 19/20\n",
      "161178/161178 [==============================] - 2s 11us/step - loss: 2.6842 - acc: 0.3308 - val_loss: 2.6795 - val_acc: 0.3314\n",
      "Epoch 20/20\n",
      "161178/161178 [==============================] - 2s 11us/step - loss: 2.6841 - acc: 0.3308 - val_loss: 2.6793 - val_acc: 0.3314\n",
      "201473/201473 [==============================] - 1s 7us/step\n",
      "[2.6800178463624347, 0.3327294476592657]\n"
     ]
    }
   ],
   "source": [
    "max_features = 2000\n",
    "\n",
    "model = Sequential()\n",
    "model.add(Dense(128, input_dim=2000, activation = 'relu'))\n",
    "#model.add(Dropout(0.5))\n",
    "# model.add(BatchNormalization())\n",
    "# model.add(Dense(1024, activation = 'relu'))\n",
    "# #model.add(Dropout(0.5))\n",
    "# model.add(BatchNormalization())\n",
    "# model.add(Dense(256, activation = 'relu'))\n",
    "#model.add(Dropout(0.5))\n",
    "model.add(BatchNormalization())\n",
    "model.add(Dense(50, activation = 'softmax'))\n",
    "\n",
    "\n",
    "model.compile(loss='categorical_crossentropy',\n",
    "              optimizer=RMSprop(lr=1e-4, rho=0.9, epsilon=None, decay=0.0),\n",
    "              metrics=['accuracy'])\n",
    "\n",
    "model.fit(x_train, y_train, batch_size=1024, epochs=20, verbose=1, validation_split=0.2,shuffle=True)\n",
    "score = model.evaluate(x_test, y_test, batch_size=1024)\n",
    "print(score)"
   ]
  }
 ],
 "metadata": {
  "kernelspec": {
   "display_name": "Python 3",
   "language": "python",
   "name": "python3"
  },
  "language_info": {
   "codemirror_mode": {
    "name": "ipython",
    "version": 3
   },
   "file_extension": ".py",
   "mimetype": "text/x-python",
   "name": "python",
   "nbconvert_exporter": "python",
   "pygments_lexer": "ipython3",
   "version": "3.6.6"
  }
 },
 "nbformat": 4,
 "nbformat_minor": 2
}
