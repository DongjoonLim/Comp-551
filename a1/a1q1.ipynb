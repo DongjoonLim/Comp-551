{
 "cells": [
  {
   "cell_type": "markdown",
   "metadata": {},
   "source": [
    "# Lim, Dongjoon 260587899 A1Q1"
   ]
  },
  {
   "cell_type": "markdown",
   "metadata": {},
   "source": [
    "\n",
    "### The algorithm will look like this\n",
    "\n",
    "   for 100 times\n",
    "   randomly get a uniformly distributed value between 0 and 1\n",
    "   if the value is between 0 and 0.2 then mark movies and count\n",
    "   if the value is between 0.2 and 0.6 mark comp551 and count\n",
    "   if the value is between 0.6 and 0.7 mark playing and count\n",
    "   if the value is between 0.7 and 1 mark studying and count\n"
   ]
  },
  {
   "cell_type": "code",
   "execution_count": 1,
   "metadata": {},
   "outputs": [
    {
     "name": "stdout",
     "output_type": "stream",
     "text": [
      "Probability for each event when 100days simulated is : [0.2, 0.36, 0.1, 0.34]\n",
      "Probability for each event when 1000days simulated is : [0.205, 0.384, 0.121, 0.29]\n"
     ]
    }
   ],
   "source": [
    "from matplotlib import pyplot as plt\n",
    "import pandas as pd\n",
    "import random\n",
    "\n",
    "#simulate for 100 days\n",
    "movie = 0\n",
    "comp551 = 0\n",
    "playing = 0\n",
    "studying = 0\n",
    "for i in range (100):\n",
    "    rand= random.uniform(0, 1)\n",
    "    if rand<0.2:\n",
    "        movie+=1\n",
    "    elif 0.2<=rand<0.6:\n",
    "        comp551+=1\n",
    "    elif 0.6<=rand<0.7:\n",
    "        playing+=1\n",
    "    else:\n",
    "        studying +=1\n",
    "print (\"Probability for each event when 100days simulated is : \" + str([movie/100.0, comp551/100.0, playing/100.0, studying/100.0]))\n",
    "\n",
    "#simulate for 100 days\n",
    "movie = 0\n",
    "comp551 = 0\n",
    "playing = 0\n",
    "studying = 0\n",
    "for i in range (1000):\n",
    "    rand= random.uniform(0, 1)\n",
    "    if rand<0.2:\n",
    "        movie+=1\n",
    "    elif 0.2<=rand<0.6:\n",
    "        comp551+=1\n",
    "    elif 0.6<=rand<0.7:\n",
    "        playing+=1\n",
    "    else:\n",
    "        studying +=1\n",
    "print (\"Probability for each event when 1000days simulated is : \" + str([movie/1000.0, comp551/1000.0, playing/1000.0, studying/1000.0]))"
   ]
  }
 ],
 "metadata": {
  "kernelspec": {
   "display_name": "Python 3",
   "language": "python",
   "name": "python3"
  },
  "language_info": {
   "codemirror_mode": {
    "name": "ipython",
    "version": 3
   },
   "file_extension": ".py",
   "mimetype": "text/x-python",
   "name": "python",
   "nbconvert_exporter": "python",
   "pygments_lexer": "ipython3",
   "version": "3.6.6"
  }
 },
 "nbformat": 4,
 "nbformat_minor": 2
}
